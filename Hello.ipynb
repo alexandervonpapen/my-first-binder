{
 "cells": [
  {
   "cell_type": "markdown",
   "id": "573269b4",
   "metadata": {},
   "source": [
    "Lassen Sie den folgenden Code laufen!"
   ]
  },
  {
   "cell_type": "code",
   "execution_count": null,
   "id": "85af8226",
   "metadata": {},
   "outputs": [],
   "source": [
    "print('Hello from Jupyter x Binder!')"
   ]
  }
 ],
 "metadata": {
  "language_info": {
   "name": "python"
  }
 },
 "nbformat": 4,
 "nbformat_minor": 5
}
